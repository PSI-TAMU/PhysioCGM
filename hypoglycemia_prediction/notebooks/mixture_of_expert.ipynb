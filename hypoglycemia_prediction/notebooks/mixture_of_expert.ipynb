{
 "cells": [
  {
   "cell_type": "code",
   "execution_count": 4,
   "metadata": {},
   "outputs": [],
   "source": [
    "import os\n",
    "import sys\n",
    "sys.path.append('..')\n",
    "import tqdm\n",
    "import json\n",
    "import torch\n",
    "import pandas as pd\n",
    "from collections import defaultdict\n",
    "from sklearn.linear_model import LogisticRegression\n",
    "from libs.helper import load_eer_thresholds\n",
    "from libs.dataloader import MultiModalDataLoader\n",
    "from libs.model import ECG_Inception, PPG_Inception, EDA_LSTM"
   ]
  },
  {
   "cell_type": "code",
   "execution_count": 5,
   "metadata": {},
   "outputs": [],
   "source": [
    "subject_id = \"c1s01\"\n",
    "data_dir = \"../data\"\n",
    "out_dir = \"../results\"\n",
    "version = \"v1\""
   ]
  },
  {
   "cell_type": "code",
   "execution_count": 6,
   "metadata": {},
   "outputs": [],
   "source": [
    "ecg_data_path = os.path.join(data_dir, subject_id, 'ecg.pkl')\n",
    "ppg_data_path = os.path.join(data_dir, subject_id, 'ppg.pkl')\n",
    "eda_data_path = os.path.join(data_dir, subject_id, 'eda.pkl')\n",
    "temp_data_path = os.path.join(data_dir, subject_id, 'temp.pkl')\n",
    "metadata_path = os.path.join(data_dir, subject_id, 'metadata.json')\n",
    "\n",
    "ecg_df = pd.read_pickle(ecg_data_path)\n",
    "ppg_df = pd.read_pickle(ppg_data_path)\n",
    "eda_df = pd.read_pickle(eda_data_path)\n",
    "temp_df = pd.read_pickle(temp_data_path)\n",
    "with open(metadata_path, 'r') as f:\n",
    "    metadata = json.load(f)"
   ]
  },
  {
   "cell_type": "code",
   "execution_count": 7,
   "metadata": {},
   "outputs": [],
   "source": [
    "ecg_model = ECG_Inception()\n",
    "ppg_model = PPG_Inception()\n",
    "eda_model = EDA_LSTM()\n",
    "\n",
    "device = torch.device(\"cuda\" if torch.cuda.is_available() else \"cpu\")\n",
    "for data_type in ['ecg', 'ppg', 'eda']:\n",
    "    out_ver_dir = os.path.join(out_dir, data_type, subject_id, version)\n",
    "    ckpt_path = os.path.join(out_ver_dir, \"best.pth\")\n",
    "    assert os.path.exists(ckpt_path), f\"Checkpoint not found at {ckpt_path}\"\n",
    "\n",
    "    if data_type == 'ecg':\n",
    "        ecg_model.load_state_dict(torch.load(ckpt_path))\n",
    "        ecg_model.eval()\n",
    "        ecg_model.to(device)\n",
    "    elif data_type == 'ppg':\n",
    "        ppg_model.load_state_dict(torch.load(ckpt_path))\n",
    "        ppg_model.eval()\n",
    "        ppg_model.to(device)\n",
    "    elif data_type == 'eda':\n",
    "        eda_model.load_state_dict(torch.load(ckpt_path))\n",
    "        eda_model.eval()\n",
    "        eda_model.to(device)"
   ]
  },
  {
   "cell_type": "code",
   "execution_count": 8,
   "metadata": {},
   "outputs": [
    {
     "name": "stdout",
     "output_type": "stream",
     "text": [
      "Temperature mean: 34.40, std: 0.93\n"
     ]
    }
   ],
   "source": [
    "loader = MultiModalDataLoader(ecg_df, ppg_df, eda_df, temp_df, metadata[version], verbose=True)"
   ]
  },
  {
   "cell_type": "code",
   "execution_count": 9,
   "metadata": {},
   "outputs": [],
   "source": [
    "train_loader = loader.get_loader(\"train\", batch_size=1, shuffle=False)\n",
    "val_loader = loader.get_loader(\"val\", batch_size=1, shuffle=False)"
   ]
  },
  {
   "cell_type": "code",
   "execution_count": 10,
   "metadata": {},
   "outputs": [
    {
     "name": "stdout",
     "output_type": "stream",
     "text": [
      "{'ecg': [0.53606116771698, 0.3416595757007599, 0.4535430073738098, 0.5926393866539001, 0.3898150622844696], 'ppg': [0.5296138525009155, 0.4670945107936859, 0.48016107082366943, 0.4767318665981293, 0.5148026347160339], 'eda': [0.46475496888160706, 0.5323653817176819, 0.5472270250320435, 0.5018326640129089, 0.5097512602806091]}\n"
     ]
    }
   ],
   "source": [
    "eer_thresholds = load_eer_thresholds(subject_id, out_dir)\n",
    "print(eer_thresholds)"
   ]
  },
  {
   "cell_type": "markdown",
   "metadata": {},
   "source": [
    "## Evaluate the accuracy"
   ]
  },
  {
   "cell_type": "markdown",
   "metadata": {},
   "source": [
    "### Majority Vote"
   ]
  },
  {
   "cell_type": "code",
   "execution_count": 11,
   "metadata": {},
   "outputs": [
    {
     "name": "stderr",
     "output_type": "stream",
     "text": [
      " 16%|█▌        | 63/396 [00:04<00:14, 22.42it/s]/mnt/nvme-data1/mtseng/miniconda3/envs/ecg/lib/python3.11/site-packages/torch/nn/modules/conv.py:306: UserWarning: Plan failed with a cudnnException: CUDNN_BACKEND_EXECUTION_PLAN_DESCRIPTOR: cudnnFinalize Descriptor Failed cudnn_status: CUDNN_STATUS_NOT_SUPPORTED (Triggered internally at ../aten/src/ATen/native/cudnn/Conv_v8.cpp:919.)\n",
      "  return F.conv1d(input, weight, bias, self.stride,\n",
      "100%|██████████| 396/396 [00:19<00:00, 20.81it/s]\n"
     ]
    }
   ],
   "source": [
    "results = defaultdict(list)\n",
    "with torch.no_grad():\n",
    "    for i, (ecg_data, ppg_data, eda_data, temp_data, hypo_label, (glucose, CGM_idx)) in enumerate(tqdm.tqdm(val_loader)):\n",
    "        ecg_data = ecg_data.float().to(device).squeeze(0)\n",
    "        ppg_data = ppg_data.float().to(device).squeeze(0)\n",
    "        eda_data = eda_data.float().to(device).squeeze(0)\n",
    "        temp_data = temp_data.float().to(device).squeeze(0) \n",
    "        hypo_label = hypo_label.to(device)\n",
    "\n",
    "        ecg_output = ecg_model(ecg_data)\n",
    "        ppg_output = ppg_model(ppg_data)\n",
    "        eda_output = eda_model(eda_data[0].unsqueeze(0), eda_data[1].unsqueeze(0))\n",
    "\n",
    "        if ecg_data.shape[0] == 1:\n",
    "            ecg_output = ecg_output.unsqueeze(0)\n",
    "        if ppg_data.shape[0] == 1:\n",
    "            ppg_output = ppg_output.unsqueeze(0)\n",
    "        eda_output = eda_output.unsqueeze(0)\n",
    "\n",
    "        ecg_output = ecg_output.cpu().numpy()\n",
    "        ppg_output = ppg_output.cpu().numpy()\n",
    "        eda_output = eda_output.cpu().numpy()\n",
    "        hypo_label = hypo_label.item()\n",
    "\n",
    "        ecg_threshold = eer_thresholds['ecg'][int(version.split('v')[-1])-1]\n",
    "        ppg_threshold = eer_thresholds['ppg'][int(version.split('v')[-1])-1]\n",
    "        eda_threshold = eer_thresholds['eda'][int(version.split('v')[-1])-1]\n",
    "\n",
    "        binarized_ecg_output = (ecg_output > ecg_threshold)\n",
    "        binarized_ecg_output = (binarized_ecg_output.sum(axis=0) > (binarized_ecg_output.shape[0]//2)).astype(int) # majority voting\n",
    "        binarized_ppg_output = (ppg_output > ppg_threshold)\n",
    "        binarized_ppg_output = (binarized_ppg_output.sum(axis=0) > (binarized_ppg_output.shape[0]//2)).astype(int)\n",
    "        binarized_eda_output = (eda_output > eda_threshold)\n",
    "        binarized_eda_output = (binarized_eda_output.sum(axis=0) > (binarized_eda_output.shape[0]//2)).astype(int)\n",
    "\n",
    "        results['ecg'].append(binarized_ecg_output)\n",
    "        results['ppg'].append(binarized_ppg_output)\n",
    "        results['eda'].append(binarized_eda_output)\n",
    "        results['label'].append(hypo_label)\n"
   ]
  },
  {
   "cell_type": "code",
   "execution_count": 12,
   "metadata": {},
   "outputs": [
    {
     "name": "stdout",
     "output_type": "stream",
     "text": [
      "ECG Accuracy: 0.80\n",
      "PPG Accuracy: 0.56\n",
      "EDA Accuracy: 0.67\n"
     ]
    }
   ],
   "source": [
    "# plot the accuracy for ensemble\n",
    "results = pd.DataFrame(results)\n",
    "\n",
    "ecg_acc = (results['ecg'] == results['label']).mean()\n",
    "ppg_acc = (results['ppg'] == results['label']).mean()\n",
    "eda_acc = (results['eda'] == results['label']).mean()\n",
    "\n",
    "print(f\"ECG Accuracy: {ecg_acc:.2f}\")\n",
    "print(f\"PPG Accuracy: {ppg_acc:.2f}\")\n",
    "print(f\"EDA Accuracy: {eda_acc:.2f}\")"
   ]
  },
  {
   "cell_type": "markdown",
   "metadata": {},
   "source": [
    "### Logistic Regression"
   ]
  },
  {
   "cell_type": "code",
   "execution_count": 13,
   "metadata": {},
   "outputs": [
    {
     "name": "stderr",
     "output_type": "stream",
     "text": [
      "100%|██████████| 1588/1588 [01:09<00:00, 22.90it/s]\n"
     ]
    }
   ],
   "source": [
    "train_cgm_df = defaultdict(list)\n",
    "with torch.no_grad():\n",
    "    for ecg_data, ppg_data, eda_data, temp_data, hypo_label, (glucose, CGM_idx) in tqdm.tqdm(train_loader):\n",
    "        ecg_data = ecg_data.float().to(device).squeeze(0)\n",
    "        ppg_data = ppg_data.float().to(device).squeeze(0)\n",
    "        eda_data = eda_data.float().to(device).squeeze(0)\n",
    "        temp_data = temp_data.float().to(device).squeeze(0)\n",
    "        hypo_label = hypo_label.to(device)\n",
    "\n",
    "        ecg_output = ecg_model(ecg_data)\n",
    "        ppg_output = ppg_model(ppg_data)\n",
    "        eda_output = eda_model(eda_data[0].unsqueeze(0), eda_data[1].unsqueeze(0))\n",
    "\n",
    "        if ecg_data.shape[0] == 1:\n",
    "            ecg_output = ecg_output.unsqueeze(0)\n",
    "        if ppg_data.shape[0] == 1:\n",
    "            ppg_output = ppg_output.unsqueeze(0)\n",
    "        eda_output = eda_output.unsqueeze(0)\n",
    "\n",
    "        ecg_output = ecg_output.cpu().numpy().mean()\n",
    "        ppg_output = ppg_output.cpu().numpy().mean()\n",
    "        eda_output = eda_output.cpu().numpy().mean()\n",
    "        temp_output = temp_data.cpu().numpy().mean()\n",
    "\n",
    "        train_cgm_df['ecg'].append(ecg_output)\n",
    "        train_cgm_df['ppg'].append(ppg_output)\n",
    "        train_cgm_df['eda'].append(eda_output)\n",
    "        train_cgm_df['temp'].append(temp_output)\n",
    "        train_cgm_df['label'].append(hypo_label.item())\n",
    "        \n",
    "train_cgm_df = pd.DataFrame(train_cgm_df)"
   ]
  },
  {
   "cell_type": "code",
   "execution_count": 14,
   "metadata": {},
   "outputs": [
    {
     "data": {
      "text/html": [
       "<style>#sk-container-id-1 {color: black;}#sk-container-id-1 pre{padding: 0;}#sk-container-id-1 div.sk-toggleable {background-color: white;}#sk-container-id-1 label.sk-toggleable__label {cursor: pointer;display: block;width: 100%;margin-bottom: 0;padding: 0.3em;box-sizing: border-box;text-align: center;}#sk-container-id-1 label.sk-toggleable__label-arrow:before {content: \"▸\";float: left;margin-right: 0.25em;color: #696969;}#sk-container-id-1 label.sk-toggleable__label-arrow:hover:before {color: black;}#sk-container-id-1 div.sk-estimator:hover label.sk-toggleable__label-arrow:before {color: black;}#sk-container-id-1 div.sk-toggleable__content {max-height: 0;max-width: 0;overflow: hidden;text-align: left;background-color: #f0f8ff;}#sk-container-id-1 div.sk-toggleable__content pre {margin: 0.2em;color: black;border-radius: 0.25em;background-color: #f0f8ff;}#sk-container-id-1 input.sk-toggleable__control:checked~div.sk-toggleable__content {max-height: 200px;max-width: 100%;overflow: auto;}#sk-container-id-1 input.sk-toggleable__control:checked~label.sk-toggleable__label-arrow:before {content: \"▾\";}#sk-container-id-1 div.sk-estimator input.sk-toggleable__control:checked~label.sk-toggleable__label {background-color: #d4ebff;}#sk-container-id-1 div.sk-label input.sk-toggleable__control:checked~label.sk-toggleable__label {background-color: #d4ebff;}#sk-container-id-1 input.sk-hidden--visually {border: 0;clip: rect(1px 1px 1px 1px);clip: rect(1px, 1px, 1px, 1px);height: 1px;margin: -1px;overflow: hidden;padding: 0;position: absolute;width: 1px;}#sk-container-id-1 div.sk-estimator {font-family: monospace;background-color: #f0f8ff;border: 1px dotted black;border-radius: 0.25em;box-sizing: border-box;margin-bottom: 0.5em;}#sk-container-id-1 div.sk-estimator:hover {background-color: #d4ebff;}#sk-container-id-1 div.sk-parallel-item::after {content: \"\";width: 100%;border-bottom: 1px solid gray;flex-grow: 1;}#sk-container-id-1 div.sk-label:hover label.sk-toggleable__label {background-color: #d4ebff;}#sk-container-id-1 div.sk-serial::before {content: \"\";position: absolute;border-left: 1px solid gray;box-sizing: border-box;top: 0;bottom: 0;left: 50%;z-index: 0;}#sk-container-id-1 div.sk-serial {display: flex;flex-direction: column;align-items: center;background-color: white;padding-right: 0.2em;padding-left: 0.2em;position: relative;}#sk-container-id-1 div.sk-item {position: relative;z-index: 1;}#sk-container-id-1 div.sk-parallel {display: flex;align-items: stretch;justify-content: center;background-color: white;position: relative;}#sk-container-id-1 div.sk-item::before, #sk-container-id-1 div.sk-parallel-item::before {content: \"\";position: absolute;border-left: 1px solid gray;box-sizing: border-box;top: 0;bottom: 0;left: 50%;z-index: -1;}#sk-container-id-1 div.sk-parallel-item {display: flex;flex-direction: column;z-index: 1;position: relative;background-color: white;}#sk-container-id-1 div.sk-parallel-item:first-child::after {align-self: flex-end;width: 50%;}#sk-container-id-1 div.sk-parallel-item:last-child::after {align-self: flex-start;width: 50%;}#sk-container-id-1 div.sk-parallel-item:only-child::after {width: 0;}#sk-container-id-1 div.sk-dashed-wrapped {border: 1px dashed gray;margin: 0 0.4em 0.5em 0.4em;box-sizing: border-box;padding-bottom: 0.4em;background-color: white;}#sk-container-id-1 div.sk-label label {font-family: monospace;font-weight: bold;display: inline-block;line-height: 1.2em;}#sk-container-id-1 div.sk-label-container {text-align: center;}#sk-container-id-1 div.sk-container {/* jupyter's `normalize.less` sets `[hidden] { display: none; }` but bootstrap.min.css set `[hidden] { display: none !important; }` so we also need the `!important` here to be able to override the default hidden behavior on the sphinx rendered scikit-learn.org. See: https://github.com/scikit-learn/scikit-learn/issues/21755 */display: inline-block !important;position: relative;}#sk-container-id-1 div.sk-text-repr-fallback {display: none;}</style><div id=\"sk-container-id-1\" class=\"sk-top-container\"><div class=\"sk-text-repr-fallback\"><pre>LogisticRegression(class_weight=&#x27;balanced&#x27;)</pre><b>In a Jupyter environment, please rerun this cell to show the HTML representation or trust the notebook. <br />On GitHub, the HTML representation is unable to render, please try loading this page with nbviewer.org.</b></div><div class=\"sk-container\" hidden><div class=\"sk-item\"><div class=\"sk-estimator sk-toggleable\"><input class=\"sk-toggleable__control sk-hidden--visually\" id=\"sk-estimator-id-1\" type=\"checkbox\" checked><label for=\"sk-estimator-id-1\" class=\"sk-toggleable__label sk-toggleable__label-arrow\">LogisticRegression</label><div class=\"sk-toggleable__content\"><pre>LogisticRegression(class_weight=&#x27;balanced&#x27;)</pre></div></div></div></div></div>"
      ],
      "text/plain": [
       "LogisticRegression(class_weight='balanced')"
      ]
     },
     "execution_count": 14,
     "metadata": {},
     "output_type": "execute_result"
    }
   ],
   "source": [
    "# Initialize logistic regression model\n",
    "MoE_model = LogisticRegression(class_weight='balanced')\n",
    "# Train the model\n",
    "MoE_model.fit(train_cgm_df[['ecg', 'ppg', 'eda', 'temp']], train_cgm_df['label'])"
   ]
  },
  {
   "cell_type": "code",
   "execution_count": 15,
   "metadata": {},
   "outputs": [
    {
     "name": "stderr",
     "output_type": "stream",
     "text": [
      "100%|██████████| 396/396 [00:16<00:00, 23.78it/s]\n"
     ]
    }
   ],
   "source": [
    "val_cgm_df = defaultdict(list)\n",
    "with torch.no_grad():\n",
    "    for ecg_data, ppg_data, eda_data, temp_data, hypo_label, (glucose, CGM_idx) in tqdm.tqdm(val_loader):\n",
    "        ecg_data = ecg_data.float().to(device).squeeze(0)\n",
    "        ppg_data = ppg_data.float().to(device).squeeze(0)\n",
    "        eda_data = eda_data.float().to(device).squeeze(0)\n",
    "        temp_data = temp_data.float().to(device).squeeze(0)\n",
    "        hypo_label = hypo_label.to(device)\n",
    "\n",
    "        ecg_output = ecg_model(ecg_data)\n",
    "        ppg_output = ppg_model(ppg_data)\n",
    "        eda_output = eda_model(eda_data[0].unsqueeze(0), eda_data[1].unsqueeze(0))\n",
    "\n",
    "        if ecg_data.shape[0] == 1:\n",
    "            ecg_output = ecg_output.unsqueeze(0)\n",
    "        if ppg_data.shape[0] == 1:\n",
    "            ppg_output = ppg_output.unsqueeze(0)\n",
    "        eda_output = eda_output.unsqueeze(0)\n",
    "\n",
    "        ecg_output = ecg_output.cpu().numpy().mean()\n",
    "        ppg_output = ppg_output.cpu().numpy().mean()\n",
    "        eda_output = eda_output.cpu().numpy().mean()\n",
    "        temp_output = temp_data.cpu().numpy().mean()\n",
    "\n",
    "        val_cgm_df['ecg'].append(ecg_output)\n",
    "        val_cgm_df['ppg'].append(ppg_output)\n",
    "        val_cgm_df['eda'].append(eda_output)\n",
    "        val_cgm_df['temp'].append(temp_output)\n",
    "        val_cgm_df['label'].append(hypo_label.item())\n",
    "        \n",
    "val_cgm_df = pd.DataFrame(val_cgm_df)"
   ]
  },
  {
   "cell_type": "code",
   "execution_count": 16,
   "metadata": {},
   "outputs": [],
   "source": [
    "y_pred = MoE_model.predict(val_cgm_df[['ecg', 'ppg', 'eda', 'temp']])\n",
    "y_true = val_cgm_df['label'].values"
   ]
  },
  {
   "cell_type": "code",
   "execution_count": 17,
   "metadata": {},
   "outputs": [
    {
     "name": "stdout",
     "output_type": "stream",
     "text": [
      "MoE Accuracy: 0.78\n"
     ]
    }
   ],
   "source": [
    "MoE_acc = (y_pred == y_true).mean()\n",
    "print(f\"MoE Accuracy: {MoE_acc:.2f}\")"
   ]
  },
  {
   "cell_type": "code",
   "execution_count": null,
   "metadata": {},
   "outputs": [],
   "source": []
  }
 ],
 "metadata": {
  "kernelspec": {
   "display_name": "ecg",
   "language": "python",
   "name": "python3"
  },
  "language_info": {
   "codemirror_mode": {
    "name": "ipython",
    "version": 3
   },
   "file_extension": ".py",
   "mimetype": "text/x-python",
   "name": "python",
   "nbconvert_exporter": "python",
   "pygments_lexer": "ipython3",
   "version": "3.11.5"
  }
 },
 "nbformat": 4,
 "nbformat_minor": 2
}
