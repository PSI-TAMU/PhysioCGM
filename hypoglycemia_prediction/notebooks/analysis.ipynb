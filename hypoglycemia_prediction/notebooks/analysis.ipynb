{
 "cells": [
  {
   "cell_type": "code",
   "execution_count": 71,
   "metadata": {},
   "outputs": [],
   "source": [
    "import os\n",
    "import json\n",
    "import pandas as pd\n",
    "import numpy as np\n",
    "import matplotlib.pyplot as plt\n",
    "from collections import defaultdict"
   ]
  },
  {
   "cell_type": "code",
   "execution_count": 38,
   "metadata": {},
   "outputs": [],
   "source": [
    "def load_eer_thresholds(subject, out_dir='../results'):\n",
    "    ecg_results_path = os.path.join(out_dir, 'ecg', subject, 'results.json')\n",
    "    ppg_results_path = os.path.join(out_dir, 'ppg', subject, 'results.json')\n",
    "    eda_results_path = os.path.join(out_dir, 'eda', subject, 'results.json')\n",
    "\n",
    "    with open(ecg_results_path, 'r') as f:\n",
    "        ecg_results = json.load(f)\n",
    "    with open(ppg_results_path, 'r') as f:\n",
    "        ppg_results = json.load(f)\n",
    "    with open(eda_results_path, 'r') as f:\n",
    "        eda_results = json.load(f)\n",
    "    eer_thresholds = {\n",
    "        \"ecg\": ecg_results['eer_thresholds'],\n",
    "        \"ppg\": ppg_results['eer_thresholds'],\n",
    "        \"eda\": eda_results['eer_thresholds']\n",
    "    }\n",
    "    return eer_thresholds"
   ]
  },
  {
   "cell_type": "markdown",
   "metadata": {},
   "source": [
    "## Experiment 1"
   ]
  },
  {
   "cell_type": "code",
   "execution_count": 44,
   "metadata": {},
   "outputs": [],
   "source": [
    "subject_ids = ['c1s01', 'c1s03', 'c1s05', 'c2s01', 'c2s02', 'c2s03', 'c2s04', 'c2s05']\n",
    "versions = ['v1', 'v2', 'v3', 'v4', 'v5']"
   ]
  },
  {
   "cell_type": "code",
   "execution_count": 48,
   "metadata": {},
   "outputs": [],
   "source": [
    "exp1_result = defaultdict(dict)"
   ]
  },
  {
   "cell_type": "code",
   "execution_count": 66,
   "metadata": {},
   "outputs": [],
   "source": [
    "for subject_id in subject_ids:\n",
    "    thresholds = load_eer_thresholds(subject_id)\n",
    "    results_prob = '../results/MoE/{}'.format(subject_id)\n",
    "    results_mv = '../results/MoE_mv/{}'.format(subject_id)\n",
    "\n",
    "    _exp1_result = defaultdict(lambda: defaultdict(list))\n",
    "    for i, version in enumerate(versions):    \n",
    "        val_df_prob = pd.read_csv(os.path.join(results_prob, version, 'MoE_val.csv'))\n",
    "        val_df_mv = pd.read_csv(os.path.join(results_mv, version, 'MoE_val.csv'))\n",
    "        \n",
    "        ecg_threshold = thresholds['ecg'][i]\n",
    "        ppg_threshold = thresholds['ppg'][i]\n",
    "        eda_threshold = thresholds['eda'][i]\n",
    "\n",
    "        binarized_prob = val_df_prob.copy()\n",
    "        binarized_prob['ecg'] = (binarized_prob['ecg'] > ecg_threshold).astype(int)\n",
    "        binarized_prob['ppg'] = (binarized_prob['ppg'] > ppg_threshold).astype(int)\n",
    "        binarized_prob['eda'] = (binarized_prob['eda'] > eda_threshold).astype(int)\n",
    "\n",
    "        _exp1_result['ecg']['prob'].append((binarized_prob['ecg'] == binarized_prob['label']).mean().item())\n",
    "        _exp1_result['ecg']['mv'].append((val_df_mv['ecg'] == val_df_mv['label']).mean().item())\n",
    "        \n",
    "        _exp1_result['ppg']['prob'].append((binarized_prob['ppg'] == binarized_prob['label']).mean().item())\n",
    "        _exp1_result['ppg']['mv'].append((val_df_mv['ppg'] == val_df_mv['label']).mean().item())\n",
    "\n",
    "        _exp1_result['eda']['prob'].append((binarized_prob['eda'] == binarized_prob['label']).mean().item())\n",
    "        _exp1_result['eda']['mv'].append((val_df_mv['eda'] == val_df_mv['label']).mean().item())\n",
    "\n",
    "        _exp1_result['MoE']['prob'].append((binarized_prob['pred'] == binarized_prob['label']).mean().item())\n",
    "        _exp1_result['MoE']['mv'].append((val_df_mv['pred'] == val_df_mv['label']).mean().item())\n",
    "\n",
    "\n",
    "    _exp1_result['ecg']['prob'] = sum(_exp1_result['ecg']['prob']) / len(_exp1_result['ecg']['prob'])\n",
    "    _exp1_result['ecg']['mv'] = sum(_exp1_result['ecg']['mv']) / len(_exp1_result['ecg']['mv'])\n",
    "\n",
    "    _exp1_result['ppg']['prob'] = sum(_exp1_result['ppg']['prob']) / len(_exp1_result['ppg']['prob'])\n",
    "    _exp1_result['ppg']['mv'] = sum(_exp1_result['ppg']['mv']) / len(_exp1_result['ppg']['mv'])\n",
    "\n",
    "    _exp1_result['eda']['prob'] = sum(_exp1_result['eda']['prob']) / len(_exp1_result['eda']['prob'])\n",
    "    _exp1_result['eda']['mv'] = sum(_exp1_result['eda']['mv']) / len(_exp1_result['eda']['mv'])\n",
    "\n",
    "    _exp1_result['MoE']['prob'] = sum(_exp1_result['MoE']['prob']) / len(_exp1_result['MoE']['prob'])\n",
    "    _exp1_result['MoE']['mv'] = sum(_exp1_result['MoE']['mv']) / len(_exp1_result['MoE']['mv'])\n",
    "\n",
    "    exp1_result[subject_id]['prob/ECG'] = _exp1_result['ecg']['prob']\n",
    "    exp1_result[subject_id]['mv/ECG'] = _exp1_result['ecg']['mv']\n",
    "    exp1_result[subject_id]['prob/PPG'] = _exp1_result['ppg']['prob']\n",
    "    exp1_result[subject_id]['mv/PPG'] = _exp1_result['ppg']['mv']\n",
    "    exp1_result[subject_id]['prob/EDA'] = _exp1_result['eda']['prob']\n",
    "    exp1_result[subject_id]['mv/EDA'] = _exp1_result['eda']['mv']\n",
    "    exp1_result[subject_id]['prob/ECG+PPG+EDA'] = _exp1_result['MoE']['prob']\n",
    "    exp1_result[subject_id]['mv/ECG+PPG+EDA'] = _exp1_result['MoE']['mv']\n",
    "\n",
    "\n"
   ]
  },
  {
   "cell_type": "code",
   "execution_count": 67,
   "metadata": {},
   "outputs": [
    {
     "name": "stdout",
     "output_type": "stream",
     "text": [
      "defaultdict(<class 'dict'>, {'c1s01': {'prob/ECG': 0.7772727272727272, 'mv/ECG': 0.7868686868686869, 'prob/PPG': 0.5545454545454545, 'mv/PPG': 0.5520202020202021, 'prob/EDA': 0.5858585858585859, 'mv/EDA': 0.5858585858585859, 'prob/ECG+PPG+EDA': 0.8282828282828282, 'mv/ECG+PPG+EDA': 0.7868686868686869}, 'c1s03': {'prob/ECG': 0.8570666666666666, 'mv/ECG': 0.8544, 'prob/PPG': 0.7146666666666667, 'mv/PPG': 0.7306666666666667, 'prob/EDA': 0.5413333333333334, 'mv/EDA': 0.5408000000000001, 'prob/ECG+PPG+EDA': 0.8981333333333333, 'mv/ECG+PPG+EDA': 0.8629333333333333}, 'c1s05': {'prob/ECG': 0.9003891050583658, 'mv/ECG': 0.9241245136186771, 'prob/PPG': 0.7470817120622568, 'mv/PPG': 0.7455252918287938, 'prob/EDA': 0.5509727626459144, 'mv/EDA': 0.5513618677042802, 'prob/ECG+PPG+EDA': 0.9505836575875486, 'mv/ECG+PPG+EDA': 0.9241245136186771}, 'c2s01': {'prob/ECG': 0.9046793760831889, 'mv/ECG': 0.9140381282495668, 'prob/PPG': 0.6069324090121316, 'mv/PPG': 0.6048526863084922, 'prob/EDA': 0.5046793760831889, 'mv/EDA': 0.5060658578856152, 'prob/ECG+PPG+EDA': 0.9445407279029464, 'mv/ECG+PPG+EDA': 0.9140381282495668}, 'c2s02': {'prob/ECG': 0.953475935828877, 'mv/ECG': 0.9572192513368984, 'prob/PPG': 0.8331550802139038, 'mv/PPG': 0.8443850267379679, 'prob/EDA': 0.6251336898395723, 'mv/EDA': 0.6262032085561497, 'prob/ECG+PPG+EDA': 0.9748663101604278, 'mv/ECG+PPG+EDA': 0.9572192513368984}, 'c2s03': {'prob/ECG': 0.8984478935698448, 'mv/ECG': 0.902439024390244, 'prob/PPG': 0.6855875831485587, 'mv/PPG': 0.6740576496674058, 'prob/EDA': 0.44035476718403554, 'mv/EDA': 0.44168514412416854, 'prob/ECG+PPG+EDA': 0.9427937915742793, 'mv/ECG+PPG+EDA': 0.902439024390244}, 'c2s04': {'prob/ECG': 0.848447204968944, 'mv/ECG': 0.8652173913043478, 'prob/PPG': 0.7795031055900621, 'mv/PPG': 0.7857142857142858, 'prob/EDA': 0.55527950310559, 'mv/EDA': 0.55527950310559, 'prob/ECG+PPG+EDA': 0.9086956521739131, 'mv/ECG+PPG+EDA': 0.8869565217391303}, 'c2s05': {'prob/ECG': 0.7358931552587646, 'mv/ECG': 0.7318864774624375, 'prob/PPG': 0.6534223706176961, 'mv/PPG': 0.6757929883138564, 'prob/EDA': 0.48914858096828046, 'mv/EDA': 0.48981636060100164, 'prob/ECG+PPG+EDA': 0.8043405676126879, 'mv/ECG+PPG+EDA': 0.7392320534223706}})\n"
     ]
    }
   ],
   "source": [
    "print(exp1_result)"
   ]
  },
  {
   "cell_type": "code",
   "execution_count": 75,
   "metadata": {},
   "outputs": [],
   "source": [
    "results = {\n",
    "    'Modality': [],\n",
    "    'Method': [],\n",
    "    'accuracy': [],\n",
    "}\n",
    "\n",
    "for subject_id in subject_ids:\n",
    "    for key in exp1_result[subject_id]:\n",
    "        modality = key.split('/')[1]\n",
    "        method = key.split('/')[0]\n",
    "        if modality == \"ECG+PPG+EDA\":\n",
    "            continue    \n",
    "\n",
    "        results['Modality'].append(modality)\n",
    "        results['Method'].append(method)\n",
    "        results['accuracy'].append(exp1_result[subject_id][key])\n",
    "\n",
    "results_df = pd.DataFrame(results)"
   ]
  },
  {
   "cell_type": "code",
   "execution_count": 79,
   "metadata": {},
   "outputs": [
    {
     "data": {
      "image/png": "[encoded data removed]",
      "text/plain": [
       "<Figure size 1000x600 with 1 Axes>"
      ]
     },
     "metadata": {},
     "output_type": "display_data"
    }
   ],
   "source": [
    "# Convert the results dictionary into a pandas DataFrame\n",
    "results_df = pd.DataFrame(results)\n",
    "\n",
    "# Calculate mean accuracy and standard deviation for each Modality and Method\n",
    "summary = results_df.groupby(['Modality', 'Method'])['accuracy'].agg(['mean', 'std']).reset_index()\n",
    "\n",
    "# Extract unique modalities and methods for plotting\n",
    "modalities = summary['Modality'].unique()\n",
    "methods = summary['Method'].unique()\n",
    "\n",
    "# Create the bar plot\n",
    "x = np.arange(len(modalities))  # Position for each modality\n",
    "bar_width = 0.35  # Width of each bar\n",
    "\n",
    "fig, ax = plt.subplots(figsize=(10, 6))\n",
    "\n",
    "# Plot each method as a grouped bar\n",
    "for i, method in enumerate(methods):\n",
    "    method_data = summary[summary['Method'] == method]\n",
    "    ax.bar(\n",
    "        x + i * bar_width,\n",
    "        method_data['mean'],\n",
    "        bar_width,\n",
    "        yerr=method_data['std'],  # Add error bars\n",
    "        capsize=4,\n",
    "        label=method\n",
    "    )\n",
    "    \n",
    "# Formatting the plot\n",
    "ax.set_xlabel('Modality', fontsize=14)\n",
    "ax.set_ylabel('Accuracy', fontsize=14)\n",
    "ax.set_title('Average Probability v.s. Majority Voting Accuracy', fontsize=16)\n",
    "ax.set_xticks(x + bar_width / 2)  # Center x-ticks between grouped bars\n",
    "ax.set_xticklabels(modalities, fontsize=12)\n",
    "ax.legend(title='Method', fontsize=12, title_fontsize=14)\n",
    "ax.grid(axis='y', linestyle='--', alpha=0.6)\n",
    "\n",
    "# Show the plot\n",
    "plt.tight_layout()\n",
    "plt.show()"
   ]
  },
  {
   "cell_type": "code",
   "execution_count": 69,
   "metadata": {},
   "outputs": [
    {
     "name": "stdout",
     "output_type": "stream",
     "text": [
      "  Modality Method  accuracy\n",
      "0      ECG   prob  0.777273\n",
      "1      ECG     mv  0.786869\n",
      "2      PPG   prob  0.554545\n",
      "3      PPG     mv  0.552020\n",
      "4      EDA   prob  0.585859\n",
      "                         sum_sq    df          F        PR(>F)\n",
      "C(Modality)            0.852183   2.0  73.200096  2.048929e-14\n",
      "C(Method)              0.000221   1.0   0.037935  8.465137e-01\n",
      "C(Modality):C(Method)  0.000100   2.0   0.008598  9.914405e-01\n",
      "Residual               0.244479  42.0        NaN           NaN\n"
     ]
    }
   ],
   "source": [
    "# 2-way ANOVA\n",
    "import statsmodels.api as sm\n",
    "from statsmodels.formula.api import ols\n",
    "from statsmodels.stats.anova import anova_lm\n",
    "\n",
    "df = pd.DataFrame(results)\n",
    "print(df.head())\n",
    "model = ols('accuracy ~ C(Modality) + C(Method) + C(Modality):C(Method)', data=df).fit()\n",
    "anova_table = anova_lm(model, typ=2)\n",
    "\n",
    "print(anova_table)"
   ]
  },
  {
   "cell_type": "markdown",
   "metadata": {},
   "source": [
    "## Experiment 2"
   ]
  },
  {
   "cell_type": "code",
   "execution_count": null,
   "metadata": {},
   "outputs": [],
   "source": [
    "results = {}\n",
    "for subject_id in subject_ids:\n",
    "    results[subject_id] = {\n",
    "        "
   ]
  },
  {
   "cell_type": "markdown",
   "metadata": {},
   "source": []
  }
 ],
 "metadata": {
  "kernelspec": {
   "display_name": "ecg",
   "language": "python",
   "name": "python3"
  },
  "language_info": {
   "codemirror_mode": {
    "name": "ipython",
    "version": 3
   },
   "file_extension": ".py",
   "mimetype": "text/x-python",
   "name": "python",
   "nbconvert_exporter": "python",
   "pygments_lexer": "ipython3",
   "version": "3.11.5"
  }
 },
 "nbformat": 4,
 "nbformat_minor": 2
}
